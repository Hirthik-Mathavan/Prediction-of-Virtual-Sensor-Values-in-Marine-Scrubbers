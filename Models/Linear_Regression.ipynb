{
  "cells": [
    {
      "cell_type": "code",
      "execution_count": 33,
      "metadata": {
        "colab": {
          "base_uri": "https://localhost:8080/"
        },
        "id": "u-UT3WJ0mIuj",
        "outputId": "8c3a0b99-eb59-4444-8f60-524e917abe5d"
      },
      "outputs": [
        {
          "data": {
            "text/plain": [
              "((15386, 14), (3847, 14), (15386,), (3847,))"
            ]
          },
          "execution_count": 33,
          "metadata": {},
          "output_type": "execute_result"
        }
      ],
      "source": [
        "\n",
        "from sklearn.model_selection import train_test_split\n",
        "# Split the data\n",
        "X_train, X_test, y_train, y_test = train_test_split(df1, Y, test_size=0.2)\n",
        "\n",
        "split_shapes = (X_train.shape, X_test.shape, y_train.shape, y_test.shape)\n",
        "split_shapes"
      ]
    },
    {
      "cell_type": "code",
      "execution_count": 36,
      "metadata": {
        "colab": {
          "base_uri": "https://localhost:8080/"
        },
        "id": "fEUntgW7FKSj",
        "outputId": "075c2228-0695-4087-967f-19353e79a6d0"
      },
      "outputs": [
        {
          "name": "stdout",
          "output_type": "stream",
          "text": [
            "Mean Squared Error: 0.060729266917593956\n",
            "R-squared: 0.4863654589504277\n"
          ]
        }
      ],
      "source": [
        "from sklearn.linear_model import LinearRegression\n",
        "from sklearn.metrics import mean_squared_error, r2_score\n",
        "\n",
        "\n",
        "model = LinearRegression()\n",
        "\n",
        "model.fit(X_train, y_train)\n",
        "\n",
        "y_pred = model.predict(X_test)\n",
        "\n",
        "mse = mean_squared_error(y_test, y_pred)\n",
        "r2 = r2_score(y_test, y_pred)\n",
        "\n",
        "print(\"Mean Squared Error:\", mse)\n",
        "print(\"R-squared:\", r2)\n"
      ]
    }
  ],
  "metadata": {
    "colab": {
      "provenance": []
    },
    "kernelspec": {
      "display_name": "Python 3.8.12 ('Tensfl')",
      "language": "python",
      "name": "python3"
    },
    "language_info": {
      "name": "python",
      "version": "3.8.12"
    },
    "vscode": {
      "interpreter": {
        "hash": "26afac258c0e4172da3cb6b3bdd0363092d304eb87db657390edd624828943d9"
      }
    }
  },
  "nbformat": 4,
  "nbformat_minor": 0
}
