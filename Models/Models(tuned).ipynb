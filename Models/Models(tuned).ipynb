{
  "cells": [
    {
      "cell_type": "code",
      "execution_count": 37,
      "metadata": {
        "id": "FXJzv4zOGWKJ"
      },
      "outputs": [],
      "source": [
        "from sklearn.model_selection import GridSearchCV\n",
        "from sklearn.neighbors import KNeighborsRegressor\n",
        "from sklearn.svm import SVR\n",
        "from xgboost import XGBRegressor\n",
        "from sklearn.ensemble import RandomForestRegressor\n",
        "from sklearn.linear_model import LinearRegression\n",
        "from sklearn.metrics import mean_squared_error, mean_absolute_error\n",
        "\n",
        "# Define parameter grids for each model\n",
        "param_grids = {\n",
        "    'KNN': {\n",
        "        'n_neighbors': [3, 5, 7, 9],\n",
        "        'weights': ['uniform', 'distance'],\n",
        "        'metric': ['euclidean', 'manhattan']\n",
        "    },\n",
        "    'Random Forest': {\n",
        "        'n_estimators': [50, 100, 200],\n",
        "        'max_depth': [None, 10, 20],\n",
        "        'min_samples_split': [2, 5, 10],\n",
        "        'min_samples_leaf': [1, 2, 4]\n",
        "    },\n",
        "    'SVM': {\n",
        "        'kernel': ['linear', 'rbf'],\n",
        "        'C': [0.1, 1, 10],\n",
        "        'gamma': [0.01, 0.1, 1]\n",
        "    },\n",
        "    'XGBoost': {\n",
        "        'n_estimators': [50, 100, 200],\n",
        "        'learning_rate': [0.01, 0.1, 0.2],\n",
        "        'max_depth': [3, 5, 7]\n",
        "    }\n",
        "}\n",
        "\n",
        "# Initialize an empty results dictionary\n",
        "best_estimators = {}\n",
        "results = {}\n",
        "\n",
        "# Perform Grid Search for each model\n",
        "models = {\n",
        "    'KNN': KNeighborsRegressor(),\n",
        "    'Random Forest': RandomForestRegressor(),\n",
        "    'SVM': SVR(),\n",
        "    'XGBoost': XGBRegressor()\n",
        "}\n",
        "\n",
        "for model_name, model in models.items():\n",
        "    param_grid = param_grids[model_name]\n",
        "    grid_search = GridSearchCV(estimator=model, param_grid=param_grid, cv=5, scoring='neg_mean_squared_error')\n",
        "    grid_search.fit(X_train, y_train)\n",
        "    best_estimators[model_name] = grid_search.best_estimator_\n",
        "    best_params = grid_search.best_params_\n",
        "\n",
        "    # Evaluate on the test set\n",
        "    predictions = grid_search.predict(X_test)\n",
        "    mse = mean_squared_error(y_test, predictions)\n",
        "    mae = mean_absolute_error(y_test, predictions)\n",
        "    results[model_name] = {'MSE': mse, 'MAE': mae, 'Best Params': best_params}\n",
        "\n"
      ]
    },
    {
      "cell_type": "code",
      "execution_count": 38,
      "metadata": {
        "colab": {
          "base_uri": "https://localhost:8080/"
        },
        "id": "PaGMBg4kQW3C",
        "outputId": "afb7abdf-807c-4833-927c-8034eb28a560"
      },
      "outputs": [
        {
          "data": {
            "text/plain": [
              "{'KNN': {'MSE': 0.05337694057043399,\n",
              "  'MAE': 0.1802662960930289,\n",
              "  'Best Params': {'metric': 'manhattan',\n",
              "   'n_neighbors': 9,\n",
              "   'weights': 'distance'}},\n",
              " 'Random Forest': {'MSE': 0.048271231657906005,\n",
              "  'MAE': 0.17442586535373034,\n",
              "  'Best Params': {'max_depth': 10,\n",
              "   'min_samples_leaf': 2,\n",
              "   'min_samples_split': 2,\n",
              "   'n_estimators': 100}},\n",
              " 'SVM': {'MSE': 0.056441982817681174,\n",
              "  'MAE': 0.181416783503158,\n",
              "  'Best Params': {'C': 1, 'gamma': 0.01, 'kernel': 'rbf'}},\n",
              " 'XGBoost': {'MSE': 0.048690982275497285,\n",
              "  'MAE': 0.17529648307361362,\n",
              "  'Best Params': {'learning_rate': 0.1, 'max_depth': 7, 'n_estimators': 50}}}"
            ]
          },
          "execution_count": 38,
          "metadata": {},
          "output_type": "execute_result"
        }
      ],
      "source": [
        "results"
      ]
    }
  ],
  "metadata": {
    "colab": {
      "provenance": []
    },
    "kernelspec": {
      "display_name": "Python 3.8.12 ('Tensfl')",
      "language": "python",
      "name": "python3"
    },
    "language_info": {
      "name": "python",
      "version": "3.8.12"
    },
    "vscode": {
      "interpreter": {
        "hash": "26afac258c0e4172da3cb6b3bdd0363092d304eb87db657390edd624828943d9"
      }
    }
  },
  "nbformat": 4,
  "nbformat_minor": 0
}
